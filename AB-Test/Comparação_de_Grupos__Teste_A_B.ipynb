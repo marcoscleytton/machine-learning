{
  "nbformat": 4,
  "nbformat_minor": 0,
  "metadata": {
    "colab": {
      "provenance": [],
      "include_colab_link": true
    },
    "kernelspec": {
      "name": "python3",
      "display_name": "Python 3"
    },
    "language_info": {
      "name": "python"
    }
  },
  "cells": [
    {
      "cell_type": "markdown",
      "metadata": {
        "id": "view-in-github",
        "colab_type": "text"
      },
      "source": [
        "<a href=\"https://colab.research.google.com/github/marcoscleytton/Matplotlib-Aprendizado/blob/main/Compara%C3%A7%C3%A3o_de_Grupos__Teste_A_B.ipynb\" target=\"_parent\"><img src=\"https://colab.research.google.com/assets/colab-badge.svg\" alt=\"Open In Colab\"/></a>"
      ]
    },
    {
      "cell_type": "code",
      "execution_count": 2,
      "metadata": {
        "id": "5kHc5zi2nATS"
      },
      "outputs": [],
      "source": [
        "import numpy as np\n",
        "from scipy import stats"
      ]
    },
    {
      "cell_type": "code",
      "source": [
        "# GRUPO A (BOTÃO AZUL)\n",
        "\n",
        "visitas_a = 1000\n",
        "click_a = 120\n",
        "\n",
        "# GRUPO B (BOTÃO VERDE)\n",
        "\n",
        "visitas_b = 1000\n",
        "click_b = 160"
      ],
      "metadata": {
        "id": "2lpZHUUCnGar"
      },
      "execution_count": 3,
      "outputs": []
    },
    {
      "cell_type": "code",
      "source": [
        "# TAXAS DE CONVERSÃO\n",
        "taxa_a = click_a / visitas_a\n",
        "taxa_b = click_b / visitas_b"
      ],
      "metadata": {
        "id": "KVCC_Wnkiht1"
      },
      "execution_count": 4,
      "outputs": []
    },
    {
      "cell_type": "code",
      "source": [
        "tabela = np.array([[120, 880],  # Grupo A: 120 cliques, 880 não cliques\n",
        "                   [160, 840]]) # Grupo B: 160 cliques, 840 não cliques"
      ],
      "metadata": {
        "id": "ik7ieydLil28"
      },
      "execution_count": 5,
      "outputs": []
    },
    {
      "cell_type": "markdown",
      "source": [
        "Cada linha representa um grupo (A e B).\n",
        "Cada coluna representa um tipo de resposta:\n",
        "- Primeira coluna: número de cliques (sucesso)\n",
        "- Segunda coluna: número de não cliques (falha)\n",
        "Então:\n",
        "- Grupo A teve 120 cliques e 880 não cliques → total de 1000 visitantes\n",
        "- Grupo B teve 160 cliques e 840 não cliques → também 1000 visitantes\n"
      ],
      "metadata": {
        "id": "VJjD8-oVlRo3"
      }
    },
    {
      "cell_type": "code",
      "source": [
        "# TESTE QUI-QUADRADO\n",
        "\n",
        "chi2, p_valor, _ , _ = stats.chi2_contingency(tabela)"
      ],
      "metadata": {
        "id": "Jw0EbEvqioHY"
      },
      "execution_count": 6,
      "outputs": []
    },
    {
      "cell_type": "code",
      "source": [
        "# RESULTADOS\n",
        "\n",
        "print(f\"Taxa de conversão A: {taxa_a:.2%}\")\n",
        "print(f\"Taxa de conversão B: {taxa_b:.2%}\")\n",
        "print(f\"Valor-p: {p_valor: .5f}\")\n",
        "\n",
        "if p_valor < 0.05:\n",
        "    print(\"Diferença estatisticamente significativa. Use o botão verde!\")\n",
        "else:\n",
        "    print(\"Diferença não significativa. Mais testes são necessários.\")\n"
      ],
      "metadata": {
        "colab": {
          "base_uri": "https://localhost:8080/"
        },
        "id": "6pFmTl5PiqQo",
        "outputId": "b8ec2a23-8680-410d-a62a-bb5558084aba"
      },
      "execution_count": 7,
      "outputs": [
        {
          "output_type": "stream",
          "name": "stdout",
          "text": [
            "Taxa de conversão A: 12.00%\n",
            "Taxa de conversão B: 16.00%\n",
            "Valor-p:  0.01196\n",
            "Diferença estatisticamente significativa. Use o botão verde!\n"
          ]
        }
      ]
    },
    {
      "cell_type": "markdown",
      "source": [
        "Comparando taxas de conversão"
      ],
      "metadata": {
        "id": "sUdvHvA3l7iG"
      }
    },
    {
      "cell_type": "code",
      "source": [],
      "metadata": {
        "id": "hdfUwVxFmONJ"
      },
      "execution_count": 7,
      "outputs": []
    }
  ]
}