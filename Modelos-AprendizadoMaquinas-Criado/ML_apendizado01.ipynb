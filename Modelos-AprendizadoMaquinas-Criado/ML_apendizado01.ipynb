{
  "nbformat": 4,
  "nbformat_minor": 0,
  "metadata": {
    "colab": {
      "provenance": []
    },
    "kernelspec": {
      "name": "python3",
      "display_name": "Python 3"
    },
    "language_info": {
      "name": "python"
    }
  },
  "cells": [
    {
      "cell_type": "code",
      "execution_count": null,
      "metadata": {
        "id": "5kHc5zi2nATS"
      },
      "outputs": [],
      "source": [
        "# Importar bibliotecas necessárias\n",
        "import pandas as pd\n",
        "from sklearn.model_selection import train_test_split\n",
        "from sklearn.preprocessing import StandardScaler\n",
        "from xgboost import XGBClassifier\n",
        "\n"
      ]
    },
    {
      "cell_type": "code",
      "source": [
        "# Carregar o dataset (substitua pelo seu caminho ou fonte de dados)\n",
        "from google.colab import files\n",
        "uploaded = files.upload()\n",
        "\n"
      ],
      "metadata": {
        "id": "suYIcPuyVObx"
      },
      "execution_count": null,
      "outputs": []
    },
    {
      "cell_type": "code",
      "source": [
        "# 1. Pré-processamento dos dados\n",
        "df_vinhos = df_vinhos.dropna()  # Remover valores nulos\n",
        "X = df_vinhos.drop('tipo', axis=1)  # Selecionar variáveis preditoras\n",
        "y = df_vinhos['tipo']  # Selecionar variável alvo\n",
        "\n"
      ],
      "metadata": {
        "id": "xDRvRm07VYR9"
      },
      "execution_count": null,
      "outputs": []
    },
    {
      "cell_type": "code",
      "source": [
        "# 2. Divisão dos dados em treino e teste\n",
        "X_train, X_test, y_train, y_test = train_test_split(\n",
        "    X, y, test_size=0.2, random_state=42\n",
        ")\n",
        "\n"
      ],
      "metadata": {
        "id": "xxMcxbBqVbPZ"
      },
      "execution_count": null,
      "outputs": []
    },
    {
      "cell_type": "code",
      "source": [
        "# 3. Padronização dos dados\n",
        "scaler = StandardScaler()\n",
        "X_train = scaler.fit_transform(X_train)\n",
        "X_test = scaler.transform(X_test)\n"
      ],
      "metadata": {
        "id": "5WVRSPLRVeK1"
      },
      "execution_count": null,
      "outputs": []
    },
    {
      "cell_type": "code",
      "source": [
        "# 4. Criação do modelo XGBoost\n",
        "xgboost_model = XGBClassifier(\n",
        "    use_label_encoder=False,\n",
        "    eval_metric='logloss'\n",
        ")"
      ],
      "metadata": {
        "id": "OirssAsTVgrj"
      },
      "execution_count": null,
      "outputs": []
    },
    {
      "cell_type": "code",
      "source": [
        "# 5. Treinamento do modelo\n",
        "xgboost_model.fit(X_train, y_train)"
      ],
      "metadata": {
        "id": "FjkRq4f5VkKF"
      },
      "execution_count": null,
      "outputs": []
    },
    {
      "cell_type": "code",
      "source": [
        "# 6. Avaliação (opcional)\n",
        "score = xgboost_model.score(X_test, y_test)\n",
        "print(f\"Acurácia do modelo: {score:.2f}\")"
      ],
      "metadata": {
        "id": "NyqHbTZSVoAl"
      },
      "execution_count": null,
      "outputs": []
    }
  ]
}