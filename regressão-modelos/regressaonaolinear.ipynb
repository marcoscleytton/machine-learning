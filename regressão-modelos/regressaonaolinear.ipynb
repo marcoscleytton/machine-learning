{
  "nbformat": 4,
  "nbformat_minor": 0,
  "metadata": {
    "colab": {
      "provenance": [],
      "authorship_tag": "ABX9TyOcif37KsWI7ma66lLYMVsZ",
      "include_colab_link": true
    },
    "kernelspec": {
      "name": "python3",
      "display_name": "Python 3"
    },
    "language_info": {
      "name": "python"
    }
  },
  "cells": [
    {
      "cell_type": "markdown",
      "metadata": {
        "id": "view-in-github",
        "colab_type": "text"
      },
      "source": [
        "<a href=\"https://colab.research.google.com/github/marcoscleytton/Aprendizado-de-maquinas/blob/main/regressaonaolinear.ipynb\" target=\"_parent\"><img src=\"https://colab.research.google.com/assets/colab-badge.svg\" alt=\"Open In Colab\"/></a>"
      ]
    },
    {
      "cell_type": "code",
      "execution_count": null,
      "metadata": {
        "id": "335LTJzuQHZH"
      },
      "outputs": [],
      "source": []
    },
    {
      "cell_type": "markdown",
      "source": [
        "#rede completa para regressão não-linear\n"
      ],
      "metadata": {
        "id": "e2Otjsj5QJSf"
      }
    },
    {
      "cell_type": "code",
      "source": [
        "import tensorflow as tf\n",
        "import numpy as np\n",
        "import matplotlib.pyplot as plt\n"
      ],
      "metadata": {
        "id": "MxrdcDGTQLvb"
      },
      "execution_count": null,
      "outputs": []
    },
    {
      "cell_type": "code",
      "source": [
        "#define uma função da regressão\n",
        "def funcao(xf):\n",
        "  yf=xf**3-50*xf+2\n",
        "  return yf"
      ],
      "metadata": {
        "id": "68TgiT0lQQnA"
      },
      "execution_count": null,
      "outputs": []
    },
    {
      "cell_type": "code",
      "source": [
        "#criando o data set de treino e teste\n",
        "s_d=200 #quantos exemplos tem meu Dtrain\n",
        "s_t=50 #quantos exemplos terá meu Dtest\n",
        "x_train = np.linspace(-10.0,10.0,s_d)\n",
        "y_train = funcao(x_train)\n",
        "x_test = np.linspace(-8,8,s_t)\n",
        "y_test = funcao(x_test)"
      ],
      "metadata": {
        "id": "CwHKCcYVQbIA"
      },
      "execution_count": null,
      "outputs": []
    },
    {
      "cell_type": "code",
      "source": [
        "# criando a rede neural\n",
        "model = tf.keras.Sequential(name='rede_IF_regressao')"
      ],
      "metadata": {
        "id": "_S2h9goKQdZQ"
      },
      "execution_count": null,
      "outputs": []
    },
    {
      "cell_type": "code",
      "source": [
        "#configurando as camadsa da rede\n",
        "model.add(tf.keras.layers.Dense(14, input_dim=1, use_bias=1, activation='relu'))\n",
        "model.add(tf.keras.layers.Dense(12, activation='relu'))\n",
        "model.add(tf.keras.layers.Dense(1, activation='linear'))"
      ],
      "metadata": {
        "id": "qCwILLPfQgnF"
      },
      "execution_count": null,
      "outputs": []
    },
    {
      "cell_type": "code",
      "source": [
        "opt=tf.keras.optimizers.Adam(learning_rate=0.002)\n",
        "model.compile(optimizer=opt, loss='mean_squared_error')\n",
        "print(model.summary())"
      ],
      "metadata": {
        "id": "hzXmOY1oQizv"
      },
      "execution_count": null,
      "outputs": []
    },
    {
      "cell_type": "code",
      "source": [
        "#treinando a rede\n",
        "history = model.fit(x_train, y_train, epochs = 2000,verbose=0)"
      ],
      "metadata": {
        "id": "Ruof4xhnQk3g"
      },
      "execution_count": null,
      "outputs": []
    },
    {
      "cell_type": "code",
      "source": [
        "#mostra a performace do treinamento da rede\n",
        "plt.rcParams.update({'font.size': 12})\n",
        "plt.figure()\n",
        "plt.plot(history.history['loss'],'k')\n",
        "plt.legend(['loss'])"
      ],
      "metadata": {
        "id": "-OXE1grYQnMr"
      },
      "execution_count": null,
      "outputs": []
    },
    {
      "cell_type": "code",
      "source": [
        "#testando a rede\n",
        "y_pred=model.predict(x_test)"
      ],
      "metadata": {
        "id": "5ZNReO3mQpMk"
      },
      "execution_count": null,
      "outputs": []
    },
    {
      "cell_type": "code",
      "source": [
        "#mostra o resultado do ajuste em relação ao esperado\n",
        "plt.figure()\n",
        "plt.plot(x_test,y_pred,'r.')\n",
        "plt.plot(x_test,y_test,'b-')\n",
        "plt.legend(['previsões','curva esperada'])\n",
        "plt.xlabel('x');plt.ylabel('y')"
      ],
      "metadata": {
        "id": "J5shhiJmQrtS"
      },
      "execution_count": null,
      "outputs": []
    },
    {
      "cell_type": "code",
      "source": [
        "import h5py\n",
        "# salva o dataset\n",
        "with h5py.File('regressao_data_set.h5', 'w') as hf:\n",
        "    hf.create_dataset(\"xtreinamento\",  data=x_train)\n",
        "    hf.create_dataset(\"ytreinamento\",  data=y_train)\n",
        "    hf.create_dataset(\"xteste\",  data=x_test)\n",
        "    hf.create_dataset(\"yteste\",  data=y_test)\n",
        "    hf.create_dataset(\"data_info\",data=[s_d,s_t])\n",
        "#salva a rede\n",
        "model.save(\"rede_IF_reg_ep_2000.h5\")"
      ],
      "metadata": {
        "id": "eRDXU0wSQ_x7"
      },
      "execution_count": null,
      "outputs": []
    },
    {
      "cell_type": "code",
      "source": [
        "import h5py\n",
        "# carrega o data set\n",
        "with h5py.File('regressao_data_set.h5', 'r') as hf:\n",
        "    print('dados do arquivo: ',list(hf.keys()))\n",
        "    [s_d,s_t]=hf['data_info'][:]\n",
        "    y_train = hf['ytreinamento'][:]\n",
        "    x_train = hf['xtreinamento'][:]\n",
        "    x_test = hf['xteste'][:]"
      ],
      "metadata": {
        "id": "ACS_cWuaRE-t"
      },
      "execution_count": null,
      "outputs": []
    },
    {
      "cell_type": "code",
      "source": [
        "#carrega a rede já treinada\n",
        "model = tf.keras.models.load_model(\"rede_IF_reg_ep_2000.h5\")"
      ],
      "metadata": {
        "id": "YbysJ1K5RJKs"
      },
      "execution_count": null,
      "outputs": []
    },
    {
      "cell_type": "code",
      "source": [
        "#Usando a rede carregada\n",
        "y_pred=model.predict(x_test)"
      ],
      "metadata": {
        "id": "ewzhKiWQRL5j"
      },
      "execution_count": null,
      "outputs": []
    },
    {
      "cell_type": "code",
      "source": [
        "#mostra o resultado do ajuste em relação ao esperado\n",
        "plt.figure()\n",
        "plt.plot(x_test,y_pred,'r.')\n",
        "plt.plot(x_test,y_test,'b-')\n",
        "plt.legend(['previsões','curva esperada'])\n",
        "plt.xlabel('x');plt.ylabel('y')"
      ],
      "metadata": {
        "id": "ERMv2k15RO9m"
      },
      "execution_count": null,
      "outputs": []
    }
  ]
}