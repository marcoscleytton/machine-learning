{
  "nbformat": 4,
  "nbformat_minor": 0,
  "metadata": {
    "colab": {
      "provenance": []
    },
    "kernelspec": {
      "name": "python3",
      "display_name": "Python 3"
    },
    "language_info": {
      "name": "python"
    }
  },
  "cells": [
    {
      "cell_type": "code",
      "execution_count": null,
      "metadata": {
        "id": "5kHc5zi2nATS"
      },
      "outputs": [],
      "source": [
        "import pandas as pd\n",
        "from sklearn.model_selection import train_test_split\n",
        "from sklearn.ensemble import RandomaForestRegressor\n",
        "from sklearn.metrics import accuracy_score, classification_report, confusion_matrix"
      ]
    },
    {
      "cell_type": "code",
      "source": [
        "# CRIANDO DADOS FICTICIOS\n",
        "data = {\n",
        "    'idade': [25, 30, 35, 40, 45, 28, 32, 45, 50, 48],\n",
        "    'salario': [5000, 6000, 7000, 8000, 9000, 3000, 12000, 5000, 4000, 5500],\n",
        "    'compara':[0,0,1,0,0,1,1,1,1,1] # 0: Não compara, 1 : Comparara\n",
        "}\n"
      ],
      "metadata": {
        "id": "2lpZHUUCnGar"
      },
      "execution_count": null,
      "outputs": []
    },
    {
      "cell_type": "code",
      "source": [
        "df.pd.DataFrame(data)"
      ],
      "metadata": {
        "id": "rlg5dsrdgzP9"
      },
      "execution_count": null,
      "outputs": []
    },
    {
      "cell_type": "code",
      "source": [
        "# SEPARANDO POR EIXO X E Y\n",
        "X = df['idade', 'salario']\n",
        "y = df['compara']"
      ],
      "metadata": {
        "id": "h-jY_F7UgzUA"
      },
      "execution_count": null,
      "outputs": []
    },
    {
      "cell_type": "code",
      "source": [
        "# DIVIDINDO OS DADOS EM CONJUNTOS PARA TREINAMENTO E TESTES\n",
        "x_train, x_test, y_train, y_test = train_test_split(random_state=42)"
      ],
      "metadata": {
        "id": "jO6SM-QigzXQ"
      },
      "execution_count": null,
      "outputs": []
    },
    {
      "cell_type": "code",
      "source": [
        "# CRIANDO E TEINANDO EM RANDO FOREST\n",
        "modelo = RandomForestRegressor(test_size=0.2, random_state=42)\n",
        "modelo.fit(x_train, y_train)"
      ],
      "metadata": {
        "id": "R5xQprDZgzag"
      },
      "execution_count": null,
      "outputs": []
    },
    {
      "cell_type": "code",
      "source": [
        "# FAZENDO PREVISOES DO CONJUNTO DE TESTES\n",
        "previsoes = modelo.predict(x_test)"
      ],
      "metadata": {
        "id": "RfBfxwmhgzcr"
      },
      "execution_count": null,
      "outputs": []
    },
    {
      "cell_type": "code",
      "source": [
        "# AVALIANDO O DESEMPENHO DO MODELO\n",
        "acuracia = accuracy_score(y_test, previsoes)\n",
        "matriz_confusao = confusion_matrix(y_test, previsoes)\n",
        "relatorio_classificacao = classification_report(y_test, previsoes)"
      ],
      "metadata": {
        "id": "bzyUaTbmgzgR"
      },
      "execution_count": null,
      "outputs": []
    },
    {
      "cell_type": "code",
      "source": [
        "# EXIBINDO OS RESULTADOS\n",
        "print(f'Acurácia do modelo é: , {acuracia:.2f}\\n')\n",
        "print('Matriz de Confusão:')\n",
        "print(matriz_confusao)\n",
        "print('Relatório de Classificação:')\n",
        "print('\\nrelatorio_classificacao:')"
      ],
      "metadata": {
        "id": "r_VC5K12gzi7"
      },
      "execution_count": null,
      "outputs": []
    },
    {
      "cell_type": "code",
      "source": [],
      "metadata": {
        "id": "RrV0zh1rgzmW"
      },
      "execution_count": null,
      "outputs": []
    },
    {
      "cell_type": "code",
      "source": [],
      "metadata": {
        "id": "vfwa3LB5gzpk"
      },
      "execution_count": null,
      "outputs": []
    },
    {
      "cell_type": "code",
      "source": [],
      "metadata": {
        "id": "RjpQBlh_gzwI"
      },
      "execution_count": null,
      "outputs": []
    }
  ]
}